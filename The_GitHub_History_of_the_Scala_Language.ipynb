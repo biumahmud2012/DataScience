{
  "nbformat": 4,
  "nbformat_minor": 0,
  "metadata": {
    "language_info": {
      "file_extension": ".py",
      "mimetype": "text/x-python",
      "version": "3.5.2",
      "codemirror_mode": {
        "name": "ipython",
        "version": 3
      },
      "name": "python",
      "nbconvert_exporter": "python",
      "pygments_lexer": "ipython3"
    },
    "kernelspec": {
      "name": "python3",
      "display_name": "Python 3",
      "language": "python"
    },
    "colab": {
      "name": "The_GitHub_History_of_the_Scala_Language.ipynb",
      "provenance": [],
      "toc_visible": true,
      "include_colab_link": true
    }
  },
  "cells": [
    {
      "cell_type": "markdown",
      "metadata": {
        "id": "view-in-github",
        "colab_type": "text"
      },
      "source": [
        "<a href=\"https://colab.research.google.com/github/biumahmud2012/DataScience/blob/master/The_GitHub_History_of_the_Scala_Language.ipynb\" target=\"_parent\"><img src=\"https://colab.research.google.com/assets/colab-badge.svg\" alt=\"Open In Colab\"/></a>"
      ]
    },
    {
      "cell_type": "markdown",
      "metadata": {
        "run_control": {
          "frozen": true
        },
        "deletable": false,
        "editable": false,
        "dc": {
          "key": "5"
        },
        "tags": [
          "context"
        ],
        "id": "NWioh_9LzKzH",
        "colab_type": "text"
      },
      "source": [
        "## 1. Scala's real-world project repository data\n",
        "<p>With almost 30k commits and a history spanning over ten years, Scala is a mature programming language. It is a general-purpose programming language that has recently become another prominent language for data scientists.</p>\n",
        "<p>Scala is also an open source project. Open source projects have the advantage that their entire development histories -- who made changes, what was changed, code reviews, etc. -- publicly available. </p>\n",
        "<p>We're going to read in, clean up, and visualize the real world project repository of Scala that spans data from a version control system (Git) as well as a project hosting site (GitHub). We will find out who has had the most influence on its development and who are the experts.</p>\n",
        "<p>The dataset we will use, which has been previously mined and extracted from GitHub, is comprised of three files:</p>\n",
        "<ol>\n",
        "<li><code>pulls_2011-2013.csv</code> contains the basic information about the pull requests, and spans from the end of 2011 up to (but not including) 2014.</li>\n",
        "<li><code>pulls_2014-2018.csv</code> contains identical information, and spans from 2014 up to 2018.</li>\n",
        "<li><code>pull_files.csv</code> contains the files that were modified by each pull request.</li>\n",
        "</ol>"
      ]
    },
    {
      "cell_type": "code",
      "metadata": {
        "tags": [
          "sample_code"
        ],
        "dc": {
          "key": "5"
        },
        "trusted": true,
        "id": "vpe6sDuozKzJ",
        "colab_type": "code",
        "colab": {}
      },
      "source": [
        "# Importing pandas\n",
        "import pandas as pd\n",
        "# ... YOUR CODE FOR TASK 1 ...\n",
        "\n",
        "# Loading in the data\n",
        "pulls_one = pd.read_csv('pulls_2011-2013.csv')\n",
        "pulls_two =  pd.read_csv('pulls_2014-2018.csv')\n",
        "pull_files =  pd.read_csv('pull_files.csv')"
      ],
      "execution_count": 22,
      "outputs": []
    },
    {
      "cell_type": "markdown",
      "metadata": {
        "run_control": {
          "frozen": true
        },
        "deletable": false,
        "editable": false,
        "dc": {
          "key": "12"
        },
        "tags": [
          "context"
        ],
        "id": "7B_kl9enzKzN",
        "colab_type": "text"
      },
      "source": [
        "## 2. Preparing and cleaning the data\n",
        "<p>First, we will need to combine the data from the two separate pull DataFrames. </p>\n",
        "<p>Next, the raw data extracted from GitHub contains dates in the ISO8601 format. However, <code>pandas</code> imports them as regular strings. To make our analysis easier, we need to convert the strings into Python's <code>DateTime</code> objects. <code>DateTime</code> objects have the important property that they can be compared and sorted.</p>\n",
        "<p>The pull request times are all in UTC (also known as Coordinated Universal Time). The commit times, however, are in the local time of the author with time zone information (number of hours difference from UTC). To make comparisons easy, we should convert all times to UTC.</p>"
      ]
    },
    {
      "cell_type": "code",
      "metadata": {
        "tags": [
          "sample_code"
        ],
        "dc": {
          "key": "12"
        },
        "trusted": true,
        "id": "6MmQO6-czKzO",
        "colab_type": "code",
        "colab": {}
      },
      "source": [
        "# Append pulls_one to pulls_two\n",
        "pulls = pulls_one.append(pulls_two)\n",
        "\n",
        "# Convert the date for the pulls object\n",
        "pulls['date'] = pd.to_datetime(pulls['date'],utc = True)"
      ],
      "execution_count": 23,
      "outputs": []
    },
    {
      "cell_type": "markdown",
      "metadata": {
        "run_control": {
          "frozen": true
        },
        "deletable": false,
        "editable": false,
        "dc": {
          "key": "19"
        },
        "tags": [
          "context"
        ],
        "id": "fqYtWwaRzKzS",
        "colab_type": "text"
      },
      "source": [
        "## 3. Merging the DataFrames\n",
        "<p>The data extracted comes in two separate files. Merging the two DataFrames will make it easier for us to analyze the data in the future tasks.</p>"
      ]
    },
    {
      "cell_type": "code",
      "metadata": {
        "tags": [
          "sample_code"
        ],
        "dc": {
          "key": "19"
        },
        "trusted": true,
        "id": "B5W2XtuQzKzS",
        "colab_type": "code",
        "colab": {}
      },
      "source": [
        "# Merge the two DataFrames\n",
        "data = pd.merge(pulls, pull_files, on='pid')"
      ],
      "execution_count": 24,
      "outputs": []
    },
    {
      "cell_type": "markdown",
      "metadata": {
        "run_control": {
          "frozen": true
        },
        "deletable": false,
        "editable": false,
        "dc": {
          "key": "26"
        },
        "tags": [
          "context"
        ],
        "id": "kJmWd2h0zKzW",
        "colab_type": "text"
      },
      "source": [
        "## 4. Is the project still actively maintained?\n",
        "<p>The activity in an open source project is not very consistent. Some projects might be active for many years after the initial release, while others can slowly taper out into oblivion. Before committing to contributing to a project, it is important to understand the state of the project. Is development going steadily, or is there a drop? Has the project been abandoned altogether?</p>\n",
        "<p>The data used in this project was collected in January of 2018. We are interested in the evolution of the number of contributions up to that date.</p>\n",
        "<p>For Scala, we will do this by plotting a chart of the project's activity. We will calculate the number of pull requests submitted each (calendar) month during the project's lifetime. We will then plot these numbers to see the trend of contributions.</p>"
      ]
    },
    {
      "cell_type": "code",
      "metadata": {
        "tags": [
          "sample_code"
        ],
        "dc": {
          "key": "26"
        },
        "trusted": true,
        "id": "joTEHO6izKzW",
        "colab_type": "code",
        "colab": {
          "base_uri": "https://localhost:8080/",
          "height": 329
        },
        "outputId": "5e6612c8-2e9a-484a-d437-89a0d0006613"
      },
      "source": [
        "%matplotlib inline\n",
        "\n",
        "# Create a column that will store the month and the year, as a string\n",
        "data['month_year'] = data.apply(lambda x: str(x['date'].year) + '-' + str(x['date'].month), axis = 1)\n",
        "\n",
        "# Group by month_year and count the pull requests\n",
        "counts = data.groupby('month_year').agg('count')\n",
        "\n",
        "# Plot the results\n",
        "counts.plot(kind='bar')"
      ],
      "execution_count": 25,
      "outputs": [
        {
          "output_type": "execute_result",
          "data": {
            "text/plain": [
              "<matplotlib.axes._subplots.AxesSubplot at 0x7f76450be438>"
            ]
          },
          "metadata": {
            "tags": []
          },
          "execution_count": 25
        },
        {
          "output_type": "display_data",
          "data": {
            "image/png": "[encoded data removed]",
            "text/plain": [
              "<Figure size 432x288 with 1 Axes>"
            ]
          },
          "metadata": {
            "tags": [],
            "needs_background": "light"
          }
        }
      ]
    },
    {
      "cell_type": "markdown",
      "metadata": {
        "run_control": {
          "frozen": true
        },
        "deletable": false,
        "editable": false,
        "dc": {
          "key": "33"
        },
        "tags": [
          "context"
        ],
        "id": "48-W7q_WzKza",
        "colab_type": "text"
      },
      "source": [
        "## 5. Is there camaraderie in the project?\n",
        "<p>The organizational structure varies from one project to another, and it can influence your success as a contributor. A project that has a very small community might not be the best one to start working on. The small community might indicate a high barrier of entry. This can be caused by several factors, including a community that is reluctant to accept pull requests from \"outsiders,\" that the code base is hard to work with, etc. However, a large community can serve as an indicator that the project is regularly accepting pull requests from new contributors. Such a project would be a good place to start.</p>\n",
        "<p>In order to evaluate the dynamics of the community, we will plot a histogram of the number of pull requests submitted by each user. A distribution that shows that there are few people that only contribute a small number of pull requests can be used as in indicator that the project is not welcoming of new contributors. </p>"
      ]
    },
    {
      "cell_type": "code",
      "metadata": {
        "tags": [
          "sample_code"
        ],
        "dc": {
          "key": "33"
        },
        "trusted": true,
        "id": "3vDmlCtLzKzb",
        "colab_type": "code",
        "colab": {
          "base_uri": "https://localhost:8080/",
          "height": 366
        },
        "outputId": "aed658ce-2e71-4697-c2d4-f31ee2020ad2"
      },
      "source": [
        "# Required for matplotlib\n",
        "%matplotlib inline\n",
        "\n",
        "# Group by the submitter\n",
        "by_user = data.groupby('user').agg('count')\n",
        "\n",
        "# Plot the histogram\n",
        "by_user.hist()"
      ],
      "execution_count": 26,
      "outputs": [
        {
          "output_type": "execute_result",
          "data": {
            "text/plain": [
              "array([[<matplotlib.axes._subplots.AxesSubplot object at 0x7f764553ba20>,\n",
              "        <matplotlib.axes._subplots.AxesSubplot object at 0x7f7643b95c50>],\n",
              "       [<matplotlib.axes._subplots.AxesSubplot object at 0x7f76437d5630>,\n",
              "        <matplotlib.axes._subplots.AxesSubplot object at 0x7f7644a68630>]],\n",
              "      dtype=object)"
            ]
          },
          "metadata": {
            "tags": []
          },
          "execution_count": 26
        },
        {
          "output_type": "display_data",
          "data": {
            "image/png": "[encoded data removed]",
            "text/plain": [
              "<Figure size 432x288 with 4 Axes>"
            ]
          },
          "metadata": {
            "tags": [],
            "needs_background": "light"
          }
        }
      ]
    },
    {
      "cell_type": "markdown",
      "metadata": {
        "run_control": {
          "frozen": true
        },
        "deletable": false,
        "editable": false,
        "dc": {
          "key": "40"
        },
        "tags": [
          "context"
        ],
        "id": "6Zl7PZTpzKze",
        "colab_type": "text"
      },
      "source": [
        "## 6. What files were changed in the last ten pull requests?\n",
        "<p>Choosing the right place to make a contribution is as important as choosing the project to contribute to. Some parts of the code might be stable, some might be dead. Contributing there might not have the most impact. Therefore it is important to understand the parts of the system that have been recently changed. This allows us to pinpoint the \"hot\" areas of the code where most of the activity is happening. Focusing on those parts might not the most effective use of our times.</p>"
      ]
    },
    {
      "cell_type": "code",
      "metadata": {
        "tags": [
          "sample_code"
        ],
        "dc": {
          "key": "40"
        },
        "trusted": true,
        "id": "Lp0K4tjJzKze",
        "colab_type": "code",
        "colab": {
          "base_uri": "https://localhost:8080/",
          "height": 595
        },
        "outputId": "8c52f204-21c5-4fa2-b60f-02593e9be6f9"
      },
      "source": [
        "# Identify the last 10 pull requests\n",
        "last_10 = pulls.nlargest(10, 'date')\n",
        "\n",
        "# Join the two data sets\n",
        "joined_pr = pd.merge(last_10, pull_files)\n",
        "\n",
        "# Identify the unique files\n",
        "files = set(joined_pr['file'])\n",
        "\n",
        "# Print the results\n",
        "files"
      ],
      "execution_count": 27,
      "outputs": [
        {
          "output_type": "execute_result",
          "data": {
            "text/plain": [
              "{'LICENSE',\n",
              " 'doc/LICENSE.md',\n",
              " 'doc/License.rtf',\n",
              " 'project/VersionUtil.scala',\n",
              " 'src/compiler/scala/reflect/reify/phases/Calculate.scala',\n",
              " 'src/compiler/scala/tools/nsc/backend/jvm/BCodeHelpers.scala',\n",
              " 'src/compiler/scala/tools/nsc/backend/jvm/PostProcessor.scala',\n",
              " 'src/compiler/scala/tools/nsc/backend/jvm/analysis/BackendUtils.scala',\n",
              " 'src/compiler/scala/tools/nsc/profile/AsyncHelper.scala',\n",
              " 'src/compiler/scala/tools/nsc/profile/Profiler.scala',\n",
              " 'src/compiler/scala/tools/nsc/symtab/classfile/ClassfileParser.scala',\n",
              " 'src/compiler/scala/tools/nsc/typechecker/Contexts.scala',\n",
              " 'src/library/scala/Predef.scala',\n",
              " 'src/library/scala/concurrent/Lock.scala',\n",
              " 'src/library/scala/util/Properties.scala',\n",
              " 'src/reflect/scala/reflect/internal/pickling/ByteCodecs.scala',\n",
              " 'src/reflect/scala/reflect/internal/tpe/GlbLubs.scala',\n",
              " 'src/scaladoc/scala/tools/nsc/doc/html/page/Entity.scala',\n",
              " 'src/scalap/decoder.properties',\n",
              " 'test/files/neg/leibniz-liskov.check',\n",
              " 'test/files/neg/leibniz-liskov.scala',\n",
              " 'test/files/pos/leibniz-liskov.scala',\n",
              " 'test/files/pos/leibniz_liskov.scala',\n",
              " 'test/files/pos/parallel-classloader.scala',\n",
              " 'test/files/pos/t10568/Converter.java',\n",
              " 'test/files/pos/t10568/Impl.scala',\n",
              " 'test/files/pos/t10686.scala',\n",
              " 'test/files/pos/t5638/Among.java',\n",
              " 'test/files/pos/t5638/Usage.scala',\n",
              " 'test/files/pos/t9291.scala',\n",
              " 'test/files/run/t8348.check',\n",
              " 'test/files/run/t8348/TableColumn.java',\n",
              " 'test/files/run/t8348/TableColumnImpl.java',\n",
              " 'test/files/run/t8348/Test.scala'}"
            ]
          },
          "metadata": {
            "tags": []
          },
          "execution_count": 27
        }
      ]
    },
    {
      "cell_type": "markdown",
      "metadata": {
        "run_control": {
          "frozen": true
        },
        "deletable": false,
        "editable": false,
        "dc": {
          "key": "47"
        },
        "tags": [
          "context"
        ],
        "id": "XLRrEALgzKzj",
        "colab_type": "text"
      },
      "source": [
        "## 7. Who made the most pull requests to a given file?\n",
        "<p>When contributing to a project, we might need some guidance. We might find ourselves needing some information regarding the codebase. It is important direct any questions to the right person. Contributors to open source projects generally have other day jobs, so their time is limited. It is important to address our questions to the right people. One way to identify the right target for our inquiries is by using their contribution history.</p>\n",
        "<p>We identified <code>src/compiler/scala/reflect/reify/phases/Calculate.scala</code> as being recently changed. We are interested in the top 3 developers who changed that file. Those developers are the ones most likely to have the best understanding of the code.</p>"
      ]
    },
    {
      "cell_type": "code",
      "metadata": {
        "tags": [
          "sample_code"
        ],
        "dc": {
          "key": "47"
        },
        "trusted": true,
        "id": "_3zXaKZwzKzj",
        "colab_type": "code",
        "colab": {
          "base_uri": "https://localhost:8080/",
          "height": 366
        },
        "outputId": "5df52eca-ce34-42b7-878a-3ef70ce2f886"
      },
      "source": [
        "# This is the file we are interested in:\n",
        "file = 'src/compiler/scala/reflect/reify/phases/Calculate.scala'\n",
        "\n",
        "# Identify the commits that changed the file\n",
        "file_pr = data[data['file']== file]\n",
        "\n",
        "# Count the number of changes made by each developer\n",
        "author_counts = file_pr.groupby('user').count()\n",
        "\n",
        "# Print the top 3 developers\n",
        "author_counts.nlargest(3, 'file').hist()\n",
        "\n"
      ],
      "execution_count": 28,
      "outputs": [
        {
          "output_type": "execute_result",
          "data": {
            "text/plain": [
              "array([[<matplotlib.axes._subplots.AxesSubplot object at 0x7f76435b3128>,\n",
              "        <matplotlib.axes._subplots.AxesSubplot object at 0x7f76451f31d0>],\n",
              "       [<matplotlib.axes._subplots.AxesSubplot object at 0x7f76436613c8>,\n",
              "        <matplotlib.axes._subplots.AxesSubplot object at 0x7f76436dc390>]],\n",
              "      dtype=object)"
            ]
          },
          "metadata": {
            "tags": []
          },
          "execution_count": 28
        },
        {
          "output_type": "display_data",
          "data": {
            "image/png": "[encoded data removed]",
            "text/plain": [
              "<Figure size 432x288 with 4 Axes>"
            ]
          },
          "metadata": {
            "tags": [],
            "needs_background": "light"
          }
        }
      ]
    },
    {
      "cell_type": "markdown",
      "metadata": {
        "run_control": {
          "frozen": true
        },
        "deletable": false,
        "editable": false,
        "dc": {
          "key": "54"
        },
        "tags": [
          "context"
        ],
        "id": "zIVoby-JzKzm",
        "colab_type": "text"
      },
      "source": [
        "## 8. Who made the last ten pull requests on a given file?\n",
        "<p>Open source projects suffer from fluctuating membership. This makes the problem of finding the right person more challenging: the person has to be knowledgeable <em>and</em> still be involved in the project. A person that contributed a lot in the past might no longer be available (or willing) to help. To get a better understanding, we need to investigate the more recent history of that particular part of the system. </p>\n",
        "<p>Like in the previous task, we will look at the history of  <code>src/compiler/scala/reflect/reify/phases/Calculate.scala</code>.</p>"
      ]
    },
    {
      "cell_type": "code",
      "metadata": {
        "tags": [
          "sample_code"
        ],
        "dc": {
          "key": "54"
        },
        "trusted": true,
        "id": "q4J1YV82zKzm",
        "colab_type": "code",
        "colab": {
          "base_uri": "https://localhost:8080/",
          "height": 34
        },
        "outputId": "6e301e8e-994c-43d7-e49a-15b139580ace"
      },
      "source": [
        "file = 'src/compiler/scala/reflect/reify/phases/Calculate.scala'\n",
        "\n",
        "# Select the pull requests that changed the target file\n",
        "file_pr = data[data['file'] == file]\n",
        "\n",
        "# Merge the obtained results with the pulls DataFrame\n",
        "joined_pr = pd.merge(file_pr, pulls, on='pid')\n",
        "\n",
        "# Find the users of the last 10 most recent pull requests\n",
        "users_last_10 = set(file_pr.nlargest(10, 'date')['user'])\n",
        "\n",
        "# Printing the results\n",
        "users_last_10\n"
      ],
      "execution_count": 29,
      "outputs": [
        {
          "output_type": "execute_result",
          "data": {
            "text/plain": [
              "{'bjornregnell', 'retronym', 'soc', 'starblood', 'xeno-by', 'zuvizudar'}"
            ]
          },
          "metadata": {
            "tags": []
          },
          "execution_count": 29
        }
      ]
    },
    {
      "cell_type": "markdown",
      "metadata": {
        "run_control": {
          "frozen": true
        },
        "deletable": false,
        "editable": false,
        "dc": {
          "key": "61"
        },
        "tags": [
          "context"
        ],
        "id": "-CHImXG_zKzp",
        "colab_type": "text"
      },
      "source": [
        "## 9. The pull requests of two special developers\n",
        "<p>Now that we have identified two potential contacts in the projects, we need to find the person who was most involved in the project in recent times. That person is most likely to answer our questions. For each calendar year, we are interested in understanding the number of pull requests the authors submitted. This will give us a high-level image of their contribution trend to the project.</p>"
      ]
    },
    {
      "cell_type": "code",
      "metadata": {
        "tags": [
          "sample_code"
        ],
        "dc": {
          "key": "61"
        },
        "trusted": true,
        "id": "gooKyrJuzKzp",
        "colab_type": "code",
        "colab": {
          "base_uri": "https://localhost:8080/",
          "height": 312
        },
        "outputId": "90c5e665-071e-4708-d3e2-a35174766c05"
      },
      "source": [
        "%matplotlib inline\n",
        "\n",
        "# The developers we are interested in\n",
        "authors = ['xeno-by', 'soc']\n",
        "\n",
        "# Get all the developers' pull requests\n",
        "by_author = pulls[pulls['user'].isin(authors)]\n",
        "\n",
        "# Count the number of pull requests submitted each year\n",
        "counts = by_author.groupby([by_author['date'].dt.year, 'user']).agg({'pid': 'count'}).reset_index()\n",
        "\n",
        "# Convert the table to a wide format\n",
        "counts_wide = counts.pivot_table(index='date', columns='user', values='pid', fill_value=0)\n",
        "\n",
        "# Plot the results\n",
        "counts_wide.plot(kind='bar')\n",
        "\n",
        "\n"
      ],
      "execution_count": 30,
      "outputs": [
        {
          "output_type": "execute_result",
          "data": {
            "text/plain": [
              "<matplotlib.axes._subplots.AxesSubplot at 0x7f76445eb6a0>"
            ]
          },
          "metadata": {
            "tags": []
          },
          "execution_count": 30
        },
        {
          "output_type": "display_data",
          "data": {
            "image/png": "[encoded data removed]",
            "text/plain": [
              "<Figure size 432x288 with 1 Axes>"
            ]
          },
          "metadata": {
            "tags": [],
            "needs_background": "light"
          }
        }
      ]
    },
    {
      "cell_type": "markdown",
      "metadata": {
        "run_control": {
          "frozen": true
        },
        "deletable": false,
        "editable": false,
        "dc": {
          "key": "68"
        },
        "tags": [
          "context"
        ],
        "id": "v7p7buWLzKzr",
        "colab_type": "text"
      },
      "source": [
        "## 10. Visualizing the contributions of each developer\n",
        "<p>As mentioned before, it is important to make a distinction between the global expertise and contribution levels and the contribution levels at a more granular level (file, submodule, etc.) In our case, we want to see which of our two developers of interest have the most experience with the code in a given file. We will measure experience by the number of pull requests submitted that affect that file and how recent those pull requests were submitted.</p>"
      ]
    },
    {
      "cell_type": "code",
      "metadata": {
        "tags": [
          "sample_code"
        ],
        "dc": {
          "key": "68"
        },
        "trusted": true,
        "id": "nTYRoopRzKzs",
        "colab_type": "code",
        "colab": {
          "base_uri": "https://localhost:8080/",
          "height": 312
        },
        "outputId": "de902def-95a0-4872-d3c5-401896e7487e"
      },
      "source": [
        "authors = ['xeno-by', 'soc']\n",
        "file = 'src/compiler/scala/reflect/reify/phases/Calculate.scala'\n",
        "\n",
        "# Select the pull requests submitted by the authors, from the `data` DataFrame\n",
        "by_author = data[data['user'].isin(authors)]\n",
        "\n",
        "# Select the pull requests that affect the file\n",
        "by_file = by_author[by_author['file'] == file]\n",
        "\n",
        "# Group and count the number of PRs done by each user each year\n",
        "grouped = by_file.groupby(['user', by_file['date'].dt.year]).count()['pid'].reset_index()\n",
        "\n",
        "# Transform the data into a wide format\n",
        "by_file_wide = grouped.pivot_table(index='date', columns='user', values = 'pid')\n",
        "\n",
        "# Plot the results\n",
        "by_file_wide.plot(kind='bar')\n",
        "\n"
      ],
      "execution_count": 31,
      "outputs": [
        {
          "output_type": "execute_result",
          "data": {
            "text/plain": [
              "<matplotlib.axes._subplots.AxesSubplot at 0x7f76447f4240>"
            ]
          },
          "metadata": {
            "tags": []
          },
          "execution_count": 31
        },
        {
          "output_type": "display_data",
          "data": {
            "image/png": "[encoded data removed]",
            "text/plain": [
              "<Figure size 432x288 with 1 Axes>"
            ]
          },
          "metadata": {
            "tags": [],
            "needs_background": "light"
          }
        }
      ]
    }
  ]
}